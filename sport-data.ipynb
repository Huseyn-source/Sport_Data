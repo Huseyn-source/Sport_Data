{
 "cells": [
  {
   "cell_type": "code",
   "execution_count": 1,
   "id": "c2cb4aa5-f84a-49ad-9a26-4ea47bc299e7",
   "metadata": {},
   "outputs": [],
   "source": [
    "import pandas as pd\n",
    "import numpy as np \n",
    "import seaborn as sns\n",
    "import matplotlib.pyplot as plt"
   ]
  },
  {
   "cell_type": "code",
   "execution_count": 2,
   "id": "a8bf4d54-deba-4484-a773-dde85b739c15",
   "metadata": {},
   "outputs": [],
   "source": [
    "sport_database = pd.read_excel(\"Strikers_performance.xlsx\")"
   ]
  },
  {
   "cell_type": "code",
   "execution_count": 3,
   "id": "c7f0bde7-5091-4109-b275-2e4c427dec20",
   "metadata": {},
   "outputs": [
    {
     "data": {
      "text/plain": [
       "Striker_ID                    0\n",
       "Nationality                   0\n",
       "Footedness                    0\n",
       "Marital Status                0\n",
       "Goals Scored                  0\n",
       "Assists                       0\n",
       "Shots on Target               0\n",
       "Shot Accuracy                 0\n",
       "Conversion Rate               0\n",
       "Dribbling Success             0\n",
       "Movement off the Ball         6\n",
       "Hold-up Play                  0\n",
       "Aerial Duels Won              0\n",
       "Defensive Contribution        0\n",
       "Big Game Performance          2\n",
       "Consistency                   0\n",
       "Penalty Success Rate          5\n",
       "Impact on Team Performance    0\n",
       "Off-field Conduct             0\n",
       "dtype: int64"
      ]
     },
     "execution_count": 3,
     "metadata": {},
     "output_type": "execute_result"
    }
   ],
   "source": [
    "sport_database.isnull().sum()"
   ]
  },
  {
   "cell_type": "code",
   "execution_count": 4,
   "id": "b1678b30-c908-47b8-ad9e-dfcd77b03dc0",
   "metadata": {},
   "outputs": [],
   "source": [
    "from sklearn.impute import SimpleImputer\n",
    "imputer = SimpleImputer(strategy = 'median')\n",
    "imputer.fit(sport_database[['Movement off the Ball', 'Big Game Performance', 'Penalty Success Rate']])\n",
    "sport_database[['Movement off the Ball', 'Big Game Performance', 'Penalty Success Rate']] = imputer.transform(sport_database[['Movement off the Ball', 'Big Game Performance', 'Penalty Success Rate']])"
   ]
  },
  {
   "cell_type": "code",
   "execution_count": 5,
   "id": "d5004556-ed1f-4608-ac23-d624ac0a6406",
   "metadata": {},
   "outputs": [],
   "source": [
    "filtered_data = ['Goals Scored', 'Assists', 'Shots on Target', 'Movement off the Ball', 'Hold-up Play', 'Aerial Duels Won', 'Defensive Contribution', 'Big Game Performance', 'Impact on Team Performance', 'Off-field Conduct']"
   ]
  },
  {
   "cell_type": "code",
   "execution_count": 6,
   "id": "daaa7f82-fb82-4c43-8a64-0a3429218c37",
   "metadata": {},
   "outputs": [],
   "source": [
    "sport_database[filtered_data] = sport_database[filtered_data].astype(int)"
   ]
  },
  {
   "cell_type": "code",
   "execution_count": 7,
   "id": "2e5a0c54-789f-43f6-b31b-46ca9db65078",
   "metadata": {},
   "outputs": [
    {
     "data": {
      "text/plain": [
       "Striker_ID                      int64\n",
       "Nationality                    object\n",
       "Footedness                     object\n",
       "Marital Status                 object\n",
       "Goals Scored                    int64\n",
       "Assists                         int64\n",
       "Shots on Target                 int64\n",
       "Shot Accuracy                 float64\n",
       "Conversion Rate               float64\n",
       "Dribbling Success             float64\n",
       "Movement off the Ball           int64\n",
       "Hold-up Play                    int64\n",
       "Aerial Duels Won                int64\n",
       "Defensive Contribution          int64\n",
       "Big Game Performance            int64\n",
       "Consistency                   float64\n",
       "Penalty Success Rate          float64\n",
       "Impact on Team Performance      int64\n",
       "Off-field Conduct               int64\n",
       "dtype: object"
      ]
     },
     "execution_count": 7,
     "metadata": {},
     "output_type": "execute_result"
    }
   ],
   "source": [
    "sport_database.dtypes"
   ]
  },
  {
   "cell_type": "code",
   "execution_count": 8,
   "id": "b3ea5b4b-6f9b-42cc-a041-a1c65b56eb8a",
   "metadata": {},
   "outputs": [
    {
     "data": {
      "text/html": [
       "<div>\n",
       "<style scoped>\n",
       "    .dataframe tbody tr th:only-of-type {\n",
       "        vertical-align: middle;\n",
       "    }\n",
       "\n",
       "    .dataframe tbody tr th {\n",
       "        vertical-align: top;\n",
       "    }\n",
       "\n",
       "    .dataframe thead th {\n",
       "        text-align: right;\n",
       "    }\n",
       "</style>\n",
       "<table border=\"1\" class=\"dataframe\">\n",
       "  <thead>\n",
       "    <tr style=\"text-align: right;\">\n",
       "      <th></th>\n",
       "      <th>Striker_ID</th>\n",
       "      <th>Goals Scored</th>\n",
       "      <th>Assists</th>\n",
       "      <th>Shots on Target</th>\n",
       "      <th>Shot Accuracy</th>\n",
       "      <th>Conversion Rate</th>\n",
       "      <th>Dribbling Success</th>\n",
       "      <th>Movement off the Ball</th>\n",
       "      <th>Hold-up Play</th>\n",
       "      <th>Aerial Duels Won</th>\n",
       "      <th>Defensive Contribution</th>\n",
       "      <th>Big Game Performance</th>\n",
       "      <th>Consistency</th>\n",
       "      <th>Penalty Success Rate</th>\n",
       "      <th>Impact on Team Performance</th>\n",
       "      <th>Off-field Conduct</th>\n",
       "    </tr>\n",
       "  </thead>\n",
       "  <tbody>\n",
       "    <tr>\n",
       "      <th>count</th>\n",
       "      <td>500.00</td>\n",
       "      <td>500.00</td>\n",
       "      <td>500.00</td>\n",
       "      <td>500.00</td>\n",
       "      <td>500.00</td>\n",
       "      <td>500.00</td>\n",
       "      <td>500.00</td>\n",
       "      <td>500.00</td>\n",
       "      <td>500.00</td>\n",
       "      <td>500.00</td>\n",
       "      <td>500.00</td>\n",
       "      <td>500.00</td>\n",
       "      <td>500.00</td>\n",
       "      <td>500.00</td>\n",
       "      <td>500.00</td>\n",
       "      <td>500.00</td>\n",
       "    </tr>\n",
       "    <tr>\n",
       "      <th>mean</th>\n",
       "      <td>250.50</td>\n",
       "      <td>14.52</td>\n",
       "      <td>7.60</td>\n",
       "      <td>25.26</td>\n",
       "      <td>0.60</td>\n",
       "      <td>0.20</td>\n",
       "      <td>0.70</td>\n",
       "      <td>69.28</td>\n",
       "      <td>59.33</td>\n",
       "      <td>19.04</td>\n",
       "      <td>39.47</td>\n",
       "      <td>6.43</td>\n",
       "      <td>0.74</td>\n",
       "      <td>0.80</td>\n",
       "      <td>6.52</td>\n",
       "      <td>7.57</td>\n",
       "    </tr>\n",
       "    <tr>\n",
       "      <th>std</th>\n",
       "      <td>144.48</td>\n",
       "      <td>4.91</td>\n",
       "      <td>2.96</td>\n",
       "      <td>7.08</td>\n",
       "      <td>0.10</td>\n",
       "      <td>0.05</td>\n",
       "      <td>0.10</td>\n",
       "      <td>10.33</td>\n",
       "      <td>10.15</td>\n",
       "      <td>4.95</td>\n",
       "      <td>9.90</td>\n",
       "      <td>1.98</td>\n",
       "      <td>0.10</td>\n",
       "      <td>0.10</td>\n",
       "      <td>2.11</td>\n",
       "      <td>2.09</td>\n",
       "    </tr>\n",
       "    <tr>\n",
       "      <th>min</th>\n",
       "      <td>1.00</td>\n",
       "      <td>0.00</td>\n",
       "      <td>0.00</td>\n",
       "      <td>4.00</td>\n",
       "      <td>0.31</td>\n",
       "      <td>0.05</td>\n",
       "      <td>0.40</td>\n",
       "      <td>40.00</td>\n",
       "      <td>35.00</td>\n",
       "      <td>4.00</td>\n",
       "      <td>8.00</td>\n",
       "      <td>2.00</td>\n",
       "      <td>0.46</td>\n",
       "      <td>0.53</td>\n",
       "      <td>0.00</td>\n",
       "      <td>0.00</td>\n",
       "    </tr>\n",
       "    <tr>\n",
       "      <th>25%</th>\n",
       "      <td>125.75</td>\n",
       "      <td>11.00</td>\n",
       "      <td>6.00</td>\n",
       "      <td>20.00</td>\n",
       "      <td>0.54</td>\n",
       "      <td>0.17</td>\n",
       "      <td>0.64</td>\n",
       "      <td>62.00</td>\n",
       "      <td>52.00</td>\n",
       "      <td>16.00</td>\n",
       "      <td>33.00</td>\n",
       "      <td>5.00</td>\n",
       "      <td>0.68</td>\n",
       "      <td>0.72</td>\n",
       "      <td>5.00</td>\n",
       "      <td>6.00</td>\n",
       "    </tr>\n",
       "    <tr>\n",
       "      <th>50%</th>\n",
       "      <td>250.50</td>\n",
       "      <td>15.00</td>\n",
       "      <td>8.00</td>\n",
       "      <td>25.00</td>\n",
       "      <td>0.60</td>\n",
       "      <td>0.20</td>\n",
       "      <td>0.70</td>\n",
       "      <td>69.00</td>\n",
       "      <td>60.00</td>\n",
       "      <td>19.00</td>\n",
       "      <td>39.50</td>\n",
       "      <td>6.00</td>\n",
       "      <td>0.75</td>\n",
       "      <td>0.80</td>\n",
       "      <td>6.50</td>\n",
       "      <td>8.00</td>\n",
       "    </tr>\n",
       "    <tr>\n",
       "      <th>75%</th>\n",
       "      <td>375.25</td>\n",
       "      <td>18.00</td>\n",
       "      <td>9.00</td>\n",
       "      <td>30.00</td>\n",
       "      <td>0.67</td>\n",
       "      <td>0.23</td>\n",
       "      <td>0.76</td>\n",
       "      <td>76.00</td>\n",
       "      <td>66.00</td>\n",
       "      <td>22.00</td>\n",
       "      <td>46.00</td>\n",
       "      <td>8.00</td>\n",
       "      <td>0.81</td>\n",
       "      <td>0.87</td>\n",
       "      <td>8.00</td>\n",
       "      <td>9.00</td>\n",
       "    </tr>\n",
       "    <tr>\n",
       "      <th>max</th>\n",
       "      <td>500.00</td>\n",
       "      <td>34.00</td>\n",
       "      <td>15.00</td>\n",
       "      <td>43.00</td>\n",
       "      <td>0.92</td>\n",
       "      <td>0.36</td>\n",
       "      <td>1.00</td>\n",
       "      <td>98.00</td>\n",
       "      <td>92.00</td>\n",
       "      <td>34.00</td>\n",
       "      <td>71.00</td>\n",
       "      <td>12.00</td>\n",
       "      <td>1.00</td>\n",
       "      <td>1.00</td>\n",
       "      <td>13.00</td>\n",
       "      <td>13.00</td>\n",
       "    </tr>\n",
       "  </tbody>\n",
       "</table>\n",
       "</div>"
      ],
      "text/plain": [
       "       Striker_ID  Goals Scored  Assists  Shots on Target  Shot Accuracy  \\\n",
       "count      500.00        500.00   500.00           500.00         500.00   \n",
       "mean       250.50         14.52     7.60            25.26           0.60   \n",
       "std        144.48          4.91     2.96             7.08           0.10   \n",
       "min          1.00          0.00     0.00             4.00           0.31   \n",
       "25%        125.75         11.00     6.00            20.00           0.54   \n",
       "50%        250.50         15.00     8.00            25.00           0.60   \n",
       "75%        375.25         18.00     9.00            30.00           0.67   \n",
       "max        500.00         34.00    15.00            43.00           0.92   \n",
       "\n",
       "       Conversion Rate  Dribbling Success  Movement off the Ball  \\\n",
       "count           500.00             500.00                 500.00   \n",
       "mean              0.20               0.70                  69.28   \n",
       "std               0.05               0.10                  10.33   \n",
       "min               0.05               0.40                  40.00   \n",
       "25%               0.17               0.64                  62.00   \n",
       "50%               0.20               0.70                  69.00   \n",
       "75%               0.23               0.76                  76.00   \n",
       "max               0.36               1.00                  98.00   \n",
       "\n",
       "       Hold-up Play  Aerial Duels Won  Defensive Contribution  \\\n",
       "count        500.00            500.00                  500.00   \n",
       "mean          59.33             19.04                   39.47   \n",
       "std           10.15              4.95                    9.90   \n",
       "min           35.00              4.00                    8.00   \n",
       "25%           52.00             16.00                   33.00   \n",
       "50%           60.00             19.00                   39.50   \n",
       "75%           66.00             22.00                   46.00   \n",
       "max           92.00             34.00                   71.00   \n",
       "\n",
       "       Big Game Performance  Consistency  Penalty Success Rate  \\\n",
       "count                500.00       500.00                500.00   \n",
       "mean                   6.43         0.74                  0.80   \n",
       "std                    1.98         0.10                  0.10   \n",
       "min                    2.00         0.46                  0.53   \n",
       "25%                    5.00         0.68                  0.72   \n",
       "50%                    6.00         0.75                  0.80   \n",
       "75%                    8.00         0.81                  0.87   \n",
       "max                   12.00         1.00                  1.00   \n",
       "\n",
       "       Impact on Team Performance  Off-field Conduct  \n",
       "count                      500.00             500.00  \n",
       "mean                         6.52               7.57  \n",
       "std                          2.11               2.09  \n",
       "min                          0.00               0.00  \n",
       "25%                          5.00               6.00  \n",
       "50%                          6.50               8.00  \n",
       "75%                          8.00               9.00  \n",
       "max                         13.00              13.00  "
      ]
     },
     "execution_count": 8,
     "metadata": {},
     "output_type": "execute_result"
    }
   ],
   "source": [
    "round(sport_database.describe(),2)"
   ]
  },
  {
   "cell_type": "code",
   "execution_count": 9,
   "id": "edb5fa9f-537b-436a-b514-28be9653a3dd",
   "metadata": {},
   "outputs": [
    {
     "data": {
      "text/plain": [
       "Footedness\n",
       "Right-footed    267\n",
       "Left-footed     233\n",
       "Name: count, dtype: int64"
      ]
     },
     "execution_count": 9,
     "metadata": {},
     "output_type": "execute_result"
    }
   ],
   "source": [
    "freq_footedness = sport_database['Footedness'].value_counts()\n",
    "freq_footedness"
   ]
  },
  {
   "cell_type": "code",
   "execution_count": 10,
   "id": "ffe9c604-0517-4d96-9063-28804766f8f5",
   "metadata": {},
   "outputs": [
    {
     "data": {
      "text/plain": [
       "Footedness\n",
       "Right-footed    53.4\n",
       "Left-footed     46.6\n",
       "Name: count, dtype: float64"
      ]
     },
     "execution_count": 10,
     "metadata": {},
     "output_type": "execute_result"
    }
   ],
   "source": [
    "perc_footedness = freq_footedness / len(sport_database['Footedness']) * 100\n",
    "perc_footedness"
   ]
  },
  {
   "cell_type": "code",
   "execution_count": 11,
   "id": "d1ac36e3-6b20-44b9-92e8-000ccdb14de0",
   "metadata": {},
   "outputs": [
    {
     "data": {
      "image/png": "[encoded data removed]",
      "text/plain": [
       "<Figure size 1000x600 with 1 Axes>"
      ]
     },
     "metadata": {},
     "output_type": "display_data"
    }
   ],
   "source": [
    "plt.figure(figsize = (10,6))\n",
    "perc_footedness.plot(kind = 'pie', autopct = '%1.1f%%')\n",
    "plt.title('Percentage of Footedness')\n",
    "plt.ylabel(' ')\n",
    "plt.show()"
   ]
  },
  {
   "cell_type": "code",
   "execution_count": 12,
   "id": "248faf77-a61a-4198-a674-9ac27f628ba7",
   "metadata": {},
   "outputs": [
    {
     "data": {
      "image/png": "[encoded data removed]",
      "text/plain": [
       "<Figure size 1000x600 with 1 Axes>"
      ]
     },
     "metadata": {},
     "output_type": "display_data"
    }
   ],
   "source": [
    "plt.figure(figsize=(10,6))\n",
    "sns.countplot(x = 'Nationality', hue = 'Footedness', data = sport_database)\n",
    "plt.title('Nationality via Footedness')\n",
    "plt.xlabel('Nationality')\n",
    "plt.ylabel('Footedness')\n",
    "plt.show()"
   ]
  },
  {
   "cell_type": "code",
   "execution_count": 13,
   "id": "d1c50e26-8708-425e-9416-2eba6f09ebc1",
   "metadata": {},
   "outputs": [
    {
     "data": {
      "text/plain": [
       "Nationality\n",
       "Brazil     15.315789\n",
       "England    13.899083\n",
       "France     14.408602\n",
       "Germany    14.351648\n",
       "Spain      14.687500\n",
       "Name: Goals Scored, dtype: float64"
      ]
     },
     "execution_count": 13,
     "metadata": {},
     "output_type": "execute_result"
    }
   ],
   "source": [
    "groupped_data = sport_database.groupby('Nationality')['Goals Scored'].mean()\n",
    "groupped_data"
   ]
  },
  {
   "cell_type": "code",
   "execution_count": 14,
   "id": "cabcc26c-9b08-4651-a98e-0379b39f0c82",
   "metadata": {},
   "outputs": [
    {
     "data": {
      "text/plain": [
       "Footedness\n",
       "Left-footed     0.198086\n",
       "Right-footed    0.200592\n",
       "Name: Conversion Rate, dtype: float64"
      ]
     },
     "execution_count": 14,
     "metadata": {},
     "output_type": "execute_result"
    }
   ],
   "source": [
    "groupped_data_2 = sport_database.groupby('Footedness')['Conversion Rate'].mean()\n",
    "groupped_data_2"
   ]
  },
  {
   "cell_type": "code",
   "execution_count": 15,
   "id": "f59c4d10-4602-4837-88dd-bc8acf6612b7",
   "metadata": {},
   "outputs": [],
   "source": [
    "from scipy import stats"
   ]
  },
  {
   "cell_type": "code",
   "execution_count": 16,
   "id": "12fe4255-b061-457a-8336-67673a820a0c",
   "metadata": {},
   "outputs": [],
   "source": [
    "Spain = sport_database.query('Nationality == \"Spain\"')['Consistency']\n",
    "Germany = sport_database.query('Nationality == \"Germany\"')['Consistency']\n",
    "France = sport_database.query('Nationality == \"France\"')['Consistency']\n",
    "Brazil = sport_database.query('Nationality == \"Brazil\"')['Consistency']\n",
    "England = sport_database.query('Nationality == \"England\"')['Consistency']"
   ]
  },
  {
   "cell_type": "code",
   "execution_count": 17,
   "id": "d9083911-b5c4-452c-b39c-eeb2b356d6b8",
   "metadata": {},
   "outputs": [
    {
     "name": "stdout",
     "output_type": "stream",
     "text": [
      "P Value 0.19278675901599154\n"
     ]
    }
   ],
   "source": [
    "Test_stat,p_value = stats.f_oneway(Spain, Germany, France, Brazil, England)\n",
    "print(\"P Value\", p_value)"
   ]
  },
  {
   "cell_type": "code",
   "execution_count": 18,
   "id": "c7a2b506-35d1-4c9a-9d29-437a0f8d6ca3",
   "metadata": {},
   "outputs": [
    {
     "name": "stdout",
     "output_type": "stream",
     "text": [
      "Fail to reject the null hypothesis\n"
     ]
    }
   ],
   "source": [
    "alpha = 0.05\n",
    "if p_value<alpha:\n",
    "    print('Reject the null hypothesis')\n",
    "else:\n",
    "    print('Fail to reject the null hypothesis')"
   ]
  },
  {
   "cell_type": "code",
   "execution_count": 19,
   "id": "bd200a64-000c-44fe-8de0-d3a196482b5e",
   "metadata": {},
   "outputs": [],
   "source": [
    "from scipy.stats import levene"
   ]
  },
  {
   "cell_type": "code",
   "execution_count": 20,
   "id": "ce74f9d9-4788-46e6-9e9b-6a9f81d70210",
   "metadata": {},
   "outputs": [
    {
     "name": "stdout",
     "output_type": "stream",
     "text": [
      "0.8083990350934653\n"
     ]
    }
   ],
   "source": [
    "stats, p_value = levene(Spain, Germany, France, Brazil, England)\n",
    "print(p_value)"
   ]
  },
  {
   "cell_type": "code",
   "execution_count": 21,
   "id": "29786267-cb86-4974-b70e-7f2c8dfea217",
   "metadata": {},
   "outputs": [
    {
     "name": "stdout",
     "output_type": "stream",
     "text": [
      "Fail to reject the null hypothesis\n"
     ]
    }
   ],
   "source": [
    "alpha = 0.05\n",
    "if p_value<alpha:\n",
    "    print('Reject the null hypothesis')\n",
    "else:\n",
    "    print('Fail to reject the null hypothesis')"
   ]
  },
  {
   "cell_type": "code",
   "execution_count": 22,
   "id": "e0ce2722-88d9-4795-96a4-05f607cdd3d1",
   "metadata": {},
   "outputs": [],
   "source": [
    "from scipy.stats import chi2_contingency"
   ]
  },
  {
   "cell_type": "code",
   "execution_count": 23,
   "id": "9f9f74fd-2016-4176-a68c-f344f49c5d1f",
   "metadata": {},
   "outputs": [
    {
     "name": "stdout",
     "output_type": "stream",
     "text": [
      "0.4604888887434182\n"
     ]
    }
   ],
   "source": [
    "cross_tab = pd.crosstab(sport_database['Nationality'],sport_database['Consistency'])\n",
    "chi2, p_value, dof, expected = chi2_contingency(cross_tab)\n",
    "print(p_value)"
   ]
  },
  {
   "cell_type": "code",
   "execution_count": 24,
   "id": "44db5ee7-f0d1-4a7f-b4b4-b11d5db129cb",
   "metadata": {},
   "outputs": [
    {
     "name": "stdout",
     "output_type": "stream",
     "text": [
      "Fail to reject null hypothesis\n"
     ]
    }
   ],
   "source": [
    "alpha = 0.05\n",
    "if p_value<alpha:\n",
    "    print('Reject null hypothesis')\n",
    "else:\n",
    "    print('Fail to reject null hypothesis')"
   ]
  },
  {
   "cell_type": "code",
   "execution_count": 25,
   "id": "3d99d2ee-2026-45df-9e12-752f5b1041c7",
   "metadata": {},
   "outputs": [
    {
     "name": "stdout",
     "output_type": "stream",
     "text": [
      "0.4604888887434182\n"
     ]
    }
   ],
   "source": [
    "from scipy.stats import chi2_contingency\n",
    "cross_tab = pd.crosstab(sport_database['Nationality'], sport_database['Consistency'])\n",
    "chi2, p_value, dof, expected = chi2_contingency(cross_tab)\n",
    "print(p_value)"
   ]
  },
  {
   "cell_type": "code",
   "execution_count": 26,
   "id": "c4206ac1-8567-4c1f-8e6e-12d74b7424f4",
   "metadata": {},
   "outputs": [
    {
     "name": "stdout",
     "output_type": "stream",
     "text": [
      "Fail to reject null hypothesis\n"
     ]
    }
   ],
   "source": [
    "alpha = 0.05\n",
    "if p_value<alpha:\n",
    "    print('Reject null hypothesis')\n",
    "else:\n",
    "    print('Fail to reject null hypothesis')"
   ]
  },
  {
   "cell_type": "code",
   "execution_count": 27,
   "id": "f42cb87a-5bea-439e-9464-ff8040ab0723",
   "metadata": {},
   "outputs": [],
   "source": [
    "from scipy.stats import levene"
   ]
  },
  {
   "cell_type": "code",
   "execution_count": 28,
   "id": "adb96d6c-ac8c-4bb1-8960-13d4391d1c7d",
   "metadata": {},
   "outputs": [
    {
     "name": "stdout",
     "output_type": "stream",
     "text": [
      "0.8083990350934653\n",
      "Fail to reject null hypothesis\n"
     ]
    }
   ],
   "source": [
    "stats, p_value = levene(Spain, Germany, France, Brazil, England)\n",
    "print(p_value)\n",
    "alpha = 0.05\n",
    "if p_value<alpha:\n",
    "    print('Reject null hypothesis')\n",
    "else:\n",
    "    print('Fail to reject null hypothesis')\n",
    "    "
   ]
  },
  {
   "cell_type": "code",
   "execution_count": 29,
   "id": "dba96148-46d4-47d7-ae3c-4075d5ab13a0",
   "metadata": {},
   "outputs": [
    {
     "name": "stdout",
     "output_type": "stream",
     "text": [
      "0.19278675901599154\n",
      "Fail to reject null hypothesis\n"
     ]
    }
   ],
   "source": [
    "from scipy import stats\n",
    "Test_stats, p_value = stats.f_oneway(Spain, Germany, France, Brazil, England)\n",
    "print(p_value)\n",
    "\n",
    "alpha = 0.05\n",
    "if p_value<alpha:\n",
    "    print('Reject null hypothesis')\n",
    "else:\n",
    "    print('Fail to reject null hypothesis')"
   ]
  },
  {
   "cell_type": "code",
   "execution_count": 30,
   "id": "d1684d03-8be9-44f8-b104-411385154bce",
   "metadata": {},
   "outputs": [
    {
     "name": "stdout",
     "output_type": "stream",
     "text": [
      "0.8083990350934653\n",
      "Fail to reject null hypothesis\n"
     ]
    }
   ],
   "source": [
    "from scipy.stats import levene\n",
    "stats, p_value = levene(Spain, Germany, France, Brazil, England)\n",
    "print(p_value)\n",
    "alpha = 0.05\n",
    "if p_value<alpha:\n",
    "    print('Reject null hypothesis')\n",
    "else:\n",
    "    print('Fail to reject null hypothesis')\n",
    "    "
   ]
  },
  {
   "cell_type": "code",
   "execution_count": 31,
   "id": "fb62cb32-2691-4506-9364-93eecfd741a0",
   "metadata": {},
   "outputs": [
    {
     "name": "stdout",
     "output_type": "stream",
     "text": [
      "0.4604888887434182\n",
      "Fail to reject null hypothesis\n"
     ]
    }
   ],
   "source": [
    "from scipy.stats import chi2_contingency\n",
    "cross_tab = pd.crosstab(sport_database['Nationality'], sport_database['Consistency'])\n",
    "chi2, p_value, dof, expected = chi2_contingency(cross_tab)\n",
    "print(p_value)\n",
    "alpha = 0.05\n",
    "if p_value<alpha:\n",
    "    print('Reject null hypothesis')\n",
    "else:\n",
    "    print('Fail to reject null hypothesis')"
   ]
  },
  {
   "cell_type": "code",
   "execution_count": 32,
   "id": "3807e1e5-1717-4bfc-9219-6c18d7d96b8a",
   "metadata": {},
   "outputs": [
    {
     "name": "stdout",
     "output_type": "stream",
     "text": [
      "0.19278675901599154\n"
     ]
    }
   ],
   "source": [
    "from scipy import stats\n",
    "Test_stats, p_value = stats.f_oneway(Spain, Germany, France, Brazil, England)\n",
    "print(p_value)"
   ]
  },
  {
   "cell_type": "code",
   "execution_count": 33,
   "id": "42ad7efe-04e4-4a1a-9804-c55b5c829b0a",
   "metadata": {},
   "outputs": [
    {
     "name": "stdout",
     "output_type": "stream",
     "text": [
      "0.8083990350934653\n",
      "Fail to reject null hypothesis\n"
     ]
    }
   ],
   "source": [
    "from scipy.stats import levene\n",
    "stats, p_value = levene(Spain, Germany,Brazil, England, France)\n",
    "print(p_value)\n",
    "\n",
    "alpha = 0.05\n",
    "if p_value<alpha:\n",
    "    print('Reject null hypothesis')\n",
    "else:\n",
    "    print('Fail to reject null hypothesis')"
   ]
  },
  {
   "cell_type": "code",
   "execution_count": 34,
   "id": "8b2c1d66-df00-4c4a-9dd6-75819c4713d9",
   "metadata": {},
   "outputs": [
    {
     "name": "stdout",
     "output_type": "stream",
     "text": [
      "0.19278675901599154\n",
      "Fail to reject null hypothesis\n"
     ]
    }
   ],
   "source": [
    "from scipy import stats\n",
    "Test_stat, p_value = stats.f_oneway(Spain, Germany,Brazil, England, France)\n",
    "print(p_value)\n",
    "\n",
    "alpha = 0.05\n",
    "if p_value<alpha:\n",
    "    print('Reject null hypothesis')\n",
    "else:\n",
    "    print('Fail to reject null hypothesis')"
   ]
  },
  {
   "cell_type": "code",
   "execution_count": 35,
   "id": "561afd56-3efa-494e-9cf0-3a94876f87a0",
   "metadata": {},
   "outputs": [
    {
     "name": "stdout",
     "output_type": "stream",
     "text": [
      "0.4604888887434182\n",
      "Fail to reject null hypothesis\n"
     ]
    }
   ],
   "source": [
    "from scipy.stats import chi2_contingency\n",
    "cross_tab = pd.crosstab(sport_database['Nationality'], sport_database['Consistency'])\n",
    "chi2, p_value, dof, expected = chi2_contingency(cross_tab)\n",
    "print(p_value)\n",
    "\n",
    "alpha = 0.05\n",
    "if p_value<alpha:\n",
    "    print('Reject null hypothesis')\n",
    "else:\n",
    "    print('Fail to reject null hypothesis')"
   ]
  },
  {
   "cell_type": "code",
   "execution_count": 54,
   "id": "6e626026-cf84-4808-af98-264a7d999e4f",
   "metadata": {},
   "outputs": [],
   "source": [
    "dummies = pd.get_dummies(sport_database[['Footedness']])\n",
    "sport_database = pd.concat([sport_database, dummies], axis = 1)"
   ]
  },
  {
   "cell_type": "code",
   "execution_count": 37,
   "id": "83f664ed-2f25-4101-b651-8d3ea6761e3d",
   "metadata": {},
   "outputs": [],
   "source": [
    "sport_database = sport_database.drop('Footedness_Right-footed',axis = 1)"
   ]
  },
  {
   "cell_type": "code",
   "execution_count": 39,
   "id": "4cc6c1e8-adb2-4077-b332-314b399c1aae",
   "metadata": {},
   "outputs": [],
   "source": [
    "from sklearn.preprocessing import LabelEncoder\n",
    "encoder = LabelEncoder()"
   ]
  },
  {
   "cell_type": "code",
   "execution_count": 66,
   "id": "62844ce6-cc36-4df9-95b7-38386734e5ae",
   "metadata": {},
   "outputs": [],
   "source": [
    "x_reg = sport_database.drop(['Assists', 'Goals Scored'],axis = 1)\n",
    "y_reg = sport_database['Goals Scored']\n",
    "x_class = sport_database.drop(['Consistency','Marital Status'], axis=1)\n",
    "y_class = sport_database['Marital Status']"
   ]
  },
  {
   "cell_type": "code",
   "execution_count": 41,
   "id": "ef6fdc3a-143e-4c00-a545-8488e37db6b0",
   "metadata": {},
   "outputs": [],
   "source": [
    "from sklearn.model_selection import train_test_split"
   ]
  },
  {
   "cell_type": "code",
   "execution_count": 42,
   "id": "92e77069-2ebb-418e-89e1-4eb7728b78c3",
   "metadata": {},
   "outputs": [],
   "source": [
    "from sklearn.preprocessing import MinMaxScaler, StandardScaler"
   ]
  },
  {
   "cell_type": "code",
   "execution_count": 50,
   "id": "2d02dea1-8be4-4663-8423-32f4efda7b80",
   "metadata": {},
   "outputs": [],
   "source": [
    "sport_database['Marital Status'] = encoder.fit_transform(sport_database['Marital Status'])"
   ]
  },
  {
   "cell_type": "code",
   "execution_count": 56,
   "id": "f5fae408-c12a-461e-8736-fc672fa403bd",
   "metadata": {},
   "outputs": [],
   "source": [
    "scaler = StandardScaler()\n",
    "scaled_x_reg = scaler.fit_transform(x_reg)"
   ]
  },
  {
   "cell_type": "code",
   "execution_count": 111,
   "id": "3a22ce19-259e-42a3-8367-c76c55f45d1d",
   "metadata": {},
   "outputs": [],
   "source": [
    "x_reg_train, y_reg_train, x_reg_test, y_reg_test = train_test_split(scaled_x_reg, y_reg, test_size = 0.2, random_state = 42)"
   ]
  },
  {
   "cell_type": "code",
   "execution_count": 70,
   "id": "567bd534-30a7-4094-85e8-b74017ce30cc",
   "metadata": {},
   "outputs": [],
   "source": [
    "from sklearn.preprocessing import MinMaxScaler"
   ]
  },
  {
   "cell_type": "code",
   "execution_count": 71,
   "id": "2fd1c2c8-a9bc-4cab-a89c-3aed3285fab9",
   "metadata": {},
   "outputs": [],
   "source": [
    "scaler_2 = MinMaxScaler()\n",
    "scaled_x_class = scaler_2.fit_transform(x_class)"
   ]
  },
  {
   "cell_type": "code",
   "execution_count": 72,
   "id": "979e6d5f-5f17-4e6a-a1d2-0d7505dca4a2",
   "metadata": {},
   "outputs": [],
   "source": [
    "x_class_train, y_class_train, x_class_test, y_class_test = train_test_split(scaled_x_class, y_class, test_size = 0.2, random_state = 42)"
   ]
  },
  {
   "cell_type": "code",
   "execution_count": 74,
   "id": "2c269bb8-f59b-46e7-bc8e-1191ef1c4be1",
   "metadata": {},
   "outputs": [],
   "source": [
    "from sklearn.linear_model import LinearRegression"
   ]
  },
  {
   "cell_type": "code",
   "execution_count": 75,
   "id": "bc25c4ac-f649-45b9-b06b-a48ce275414c",
   "metadata": {},
   "outputs": [],
   "source": [
    "from sklearn.metrics import mean_squared_error"
   ]
  },
  {
   "cell_type": "code",
   "execution_count": 80,
   "id": "083703a2-c02d-49c6-abdd-87495200f2c1",
   "metadata": {},
   "outputs": [],
   "source": [
    "lr_model = LinearRegression()"
   ]
  },
  {
   "cell_type": "code",
   "execution_count": 112,
   "id": "88dbab3e-30df-41fa-a391-a9c8447d1032",
   "metadata": {},
   "outputs": [
    {
     "ename": "ValueError",
     "evalue": "Found input variables with inconsistent numbers of samples: [400, 100]",
     "output_type": "error",
     "traceback": [
      "\u001b[1;31m---------------------------------------------------------------------------\u001b[0m",
      "\u001b[1;31mValueError\u001b[0m                                Traceback (most recent call last)",
      "Cell \u001b[1;32mIn[112], line 1\u001b[0m\n\u001b[1;32m----> 1\u001b[0m \u001b[43mlr_model\u001b[49m\u001b[38;5;241;43m.\u001b[39;49m\u001b[43mfit\u001b[49m\u001b[43m(\u001b[49m\u001b[43mx_reg_train\u001b[49m\u001b[43m,\u001b[49m\u001b[43m \u001b[49m\u001b[43my_reg_train\u001b[49m\u001b[43m)\u001b[49m\n",
      "File \u001b[1;32m~\\AppData\\Local\\Programs\\Python\\Python313\\Lib\\site-packages\\sklearn\\base.py:1389\u001b[0m, in \u001b[0;36m_fit_context.<locals>.decorator.<locals>.wrapper\u001b[1;34m(estimator, *args, **kwargs)\u001b[0m\n\u001b[0;32m   1382\u001b[0m     estimator\u001b[38;5;241m.\u001b[39m_validate_params()\n\u001b[0;32m   1384\u001b[0m \u001b[38;5;28;01mwith\u001b[39;00m config_context(\n\u001b[0;32m   1385\u001b[0m     skip_parameter_validation\u001b[38;5;241m=\u001b[39m(\n\u001b[0;32m   1386\u001b[0m         prefer_skip_nested_validation \u001b[38;5;129;01mor\u001b[39;00m global_skip_validation\n\u001b[0;32m   1387\u001b[0m     )\n\u001b[0;32m   1388\u001b[0m ):\n\u001b[1;32m-> 1389\u001b[0m     \u001b[38;5;28;01mreturn\u001b[39;00m \u001b[43mfit_method\u001b[49m\u001b[43m(\u001b[49m\u001b[43mestimator\u001b[49m\u001b[43m,\u001b[49m\u001b[43m \u001b[49m\u001b[38;5;241;43m*\u001b[39;49m\u001b[43margs\u001b[49m\u001b[43m,\u001b[49m\u001b[43m \u001b[49m\u001b[38;5;241;43m*\u001b[39;49m\u001b[38;5;241;43m*\u001b[39;49m\u001b[43mkwargs\u001b[49m\u001b[43m)\u001b[49m\n",
      "File \u001b[1;32m~\\AppData\\Local\\Programs\\Python\\Python313\\Lib\\site-packages\\sklearn\\linear_model\\_base.py:601\u001b[0m, in \u001b[0;36mLinearRegression.fit\u001b[1;34m(self, X, y, sample_weight)\u001b[0m\n\u001b[0;32m    597\u001b[0m n_jobs_ \u001b[38;5;241m=\u001b[39m \u001b[38;5;28mself\u001b[39m\u001b[38;5;241m.\u001b[39mn_jobs\n\u001b[0;32m    599\u001b[0m accept_sparse \u001b[38;5;241m=\u001b[39m \u001b[38;5;28;01mFalse\u001b[39;00m \u001b[38;5;28;01mif\u001b[39;00m \u001b[38;5;28mself\u001b[39m\u001b[38;5;241m.\u001b[39mpositive \u001b[38;5;28;01melse\u001b[39;00m [\u001b[38;5;124m\"\u001b[39m\u001b[38;5;124mcsr\u001b[39m\u001b[38;5;124m\"\u001b[39m, \u001b[38;5;124m\"\u001b[39m\u001b[38;5;124mcsc\u001b[39m\u001b[38;5;124m\"\u001b[39m, \u001b[38;5;124m\"\u001b[39m\u001b[38;5;124mcoo\u001b[39m\u001b[38;5;124m\"\u001b[39m]\n\u001b[1;32m--> 601\u001b[0m X, y \u001b[38;5;241m=\u001b[39m \u001b[43mvalidate_data\u001b[49m\u001b[43m(\u001b[49m\n\u001b[0;32m    602\u001b[0m \u001b[43m    \u001b[49m\u001b[38;5;28;43mself\u001b[39;49m\u001b[43m,\u001b[49m\n\u001b[0;32m    603\u001b[0m \u001b[43m    \u001b[49m\u001b[43mX\u001b[49m\u001b[43m,\u001b[49m\n\u001b[0;32m    604\u001b[0m \u001b[43m    \u001b[49m\u001b[43my\u001b[49m\u001b[43m,\u001b[49m\n\u001b[0;32m    605\u001b[0m \u001b[43m    \u001b[49m\u001b[43maccept_sparse\u001b[49m\u001b[38;5;241;43m=\u001b[39;49m\u001b[43maccept_sparse\u001b[49m\u001b[43m,\u001b[49m\n\u001b[0;32m    606\u001b[0m \u001b[43m    \u001b[49m\u001b[43my_numeric\u001b[49m\u001b[38;5;241;43m=\u001b[39;49m\u001b[38;5;28;43;01mTrue\u001b[39;49;00m\u001b[43m,\u001b[49m\n\u001b[0;32m    607\u001b[0m \u001b[43m    \u001b[49m\u001b[43mmulti_output\u001b[49m\u001b[38;5;241;43m=\u001b[39;49m\u001b[38;5;28;43;01mTrue\u001b[39;49;00m\u001b[43m,\u001b[49m\n\u001b[0;32m    608\u001b[0m \u001b[43m    \u001b[49m\u001b[43mforce_writeable\u001b[49m\u001b[38;5;241;43m=\u001b[39;49m\u001b[38;5;28;43;01mTrue\u001b[39;49;00m\u001b[43m,\u001b[49m\n\u001b[0;32m    609\u001b[0m \u001b[43m\u001b[49m\u001b[43m)\u001b[49m\n\u001b[0;32m    611\u001b[0m has_sw \u001b[38;5;241m=\u001b[39m sample_weight \u001b[38;5;129;01mis\u001b[39;00m \u001b[38;5;129;01mnot\u001b[39;00m \u001b[38;5;28;01mNone\u001b[39;00m\n\u001b[0;32m    612\u001b[0m \u001b[38;5;28;01mif\u001b[39;00m has_sw:\n",
      "File \u001b[1;32m~\\AppData\\Local\\Programs\\Python\\Python313\\Lib\\site-packages\\sklearn\\utils\\validation.py:2961\u001b[0m, in \u001b[0;36mvalidate_data\u001b[1;34m(_estimator, X, y, reset, validate_separately, skip_check_array, **check_params)\u001b[0m\n\u001b[0;32m   2959\u001b[0m         y \u001b[38;5;241m=\u001b[39m check_array(y, input_name\u001b[38;5;241m=\u001b[39m\u001b[38;5;124m\"\u001b[39m\u001b[38;5;124my\u001b[39m\u001b[38;5;124m\"\u001b[39m, \u001b[38;5;241m*\u001b[39m\u001b[38;5;241m*\u001b[39mcheck_y_params)\n\u001b[0;32m   2960\u001b[0m     \u001b[38;5;28;01melse\u001b[39;00m:\n\u001b[1;32m-> 2961\u001b[0m         X, y \u001b[38;5;241m=\u001b[39m \u001b[43mcheck_X_y\u001b[49m\u001b[43m(\u001b[49m\u001b[43mX\u001b[49m\u001b[43m,\u001b[49m\u001b[43m \u001b[49m\u001b[43my\u001b[49m\u001b[43m,\u001b[49m\u001b[43m \u001b[49m\u001b[38;5;241;43m*\u001b[39;49m\u001b[38;5;241;43m*\u001b[39;49m\u001b[43mcheck_params\u001b[49m\u001b[43m)\u001b[49m\n\u001b[0;32m   2962\u001b[0m     out \u001b[38;5;241m=\u001b[39m X, y\n\u001b[0;32m   2964\u001b[0m \u001b[38;5;28;01mif\u001b[39;00m \u001b[38;5;129;01mnot\u001b[39;00m no_val_X \u001b[38;5;129;01mand\u001b[39;00m check_params\u001b[38;5;241m.\u001b[39mget(\u001b[38;5;124m\"\u001b[39m\u001b[38;5;124mensure_2d\u001b[39m\u001b[38;5;124m\"\u001b[39m, \u001b[38;5;28;01mTrue\u001b[39;00m):\n",
      "File \u001b[1;32m~\\AppData\\Local\\Programs\\Python\\Python313\\Lib\\site-packages\\sklearn\\utils\\validation.py:1389\u001b[0m, in \u001b[0;36mcheck_X_y\u001b[1;34m(X, y, accept_sparse, accept_large_sparse, dtype, order, copy, force_writeable, force_all_finite, ensure_all_finite, ensure_2d, allow_nd, multi_output, ensure_min_samples, ensure_min_features, y_numeric, estimator)\u001b[0m\n\u001b[0;32m   1370\u001b[0m X \u001b[38;5;241m=\u001b[39m check_array(\n\u001b[0;32m   1371\u001b[0m     X,\n\u001b[0;32m   1372\u001b[0m     accept_sparse\u001b[38;5;241m=\u001b[39maccept_sparse,\n\u001b[1;32m   (...)\u001b[0m\n\u001b[0;32m   1384\u001b[0m     input_name\u001b[38;5;241m=\u001b[39m\u001b[38;5;124m\"\u001b[39m\u001b[38;5;124mX\u001b[39m\u001b[38;5;124m\"\u001b[39m,\n\u001b[0;32m   1385\u001b[0m )\n\u001b[0;32m   1387\u001b[0m y \u001b[38;5;241m=\u001b[39m _check_y(y, multi_output\u001b[38;5;241m=\u001b[39mmulti_output, y_numeric\u001b[38;5;241m=\u001b[39my_numeric, estimator\u001b[38;5;241m=\u001b[39mestimator)\n\u001b[1;32m-> 1389\u001b[0m \u001b[43mcheck_consistent_length\u001b[49m\u001b[43m(\u001b[49m\u001b[43mX\u001b[49m\u001b[43m,\u001b[49m\u001b[43m \u001b[49m\u001b[43my\u001b[49m\u001b[43m)\u001b[49m\n\u001b[0;32m   1391\u001b[0m \u001b[38;5;28;01mreturn\u001b[39;00m X, y\n",
      "File \u001b[1;32m~\\AppData\\Local\\Programs\\Python\\Python313\\Lib\\site-packages\\sklearn\\utils\\validation.py:475\u001b[0m, in \u001b[0;36mcheck_consistent_length\u001b[1;34m(*arrays)\u001b[0m\n\u001b[0;32m    473\u001b[0m uniques \u001b[38;5;241m=\u001b[39m np\u001b[38;5;241m.\u001b[39munique(lengths)\n\u001b[0;32m    474\u001b[0m \u001b[38;5;28;01mif\u001b[39;00m \u001b[38;5;28mlen\u001b[39m(uniques) \u001b[38;5;241m>\u001b[39m \u001b[38;5;241m1\u001b[39m:\n\u001b[1;32m--> 475\u001b[0m     \u001b[38;5;28;01mraise\u001b[39;00m \u001b[38;5;167;01mValueError\u001b[39;00m(\n\u001b[0;32m    476\u001b[0m         \u001b[38;5;124m\"\u001b[39m\u001b[38;5;124mFound input variables with inconsistent numbers of samples: \u001b[39m\u001b[38;5;132;01m%r\u001b[39;00m\u001b[38;5;124m\"\u001b[39m\n\u001b[0;32m    477\u001b[0m         \u001b[38;5;241m%\u001b[39m [\u001b[38;5;28mint\u001b[39m(l) \u001b[38;5;28;01mfor\u001b[39;00m l \u001b[38;5;129;01min\u001b[39;00m lengths]\n\u001b[0;32m    478\u001b[0m     )\n",
      "\u001b[1;31mValueError\u001b[0m: Found input variables with inconsistent numbers of samples: [400, 100]"
     ]
    }
   ],
   "source": [
    "lr_model.fit(x_reg_train, y_reg_train)"
   ]
  },
  {
   "cell_type": "code",
   "execution_count": null,
   "id": "731201fe-c7b5-4f60-a40c-cbee155234a2",
   "metadata": {},
   "outputs": [],
   "source": []
  }
 ],
 "metadata": {
  "kernelspec": {
   "display_name": "Python 3 (ipykernel)",
   "language": "python",
   "name": "python3"
  },
  "language_info": {
   "codemirror_mode": {
    "name": "ipython",
    "version": 3
   },
   "file_extension": ".py",
   "mimetype": "text/x-python",
   "name": "python",
   "nbconvert_exporter": "python",
   "pygments_lexer": "ipython3",
   "version": "3.13.1"
  }
 },
 "nbformat": 4,
 "nbformat_minor": 5
}
